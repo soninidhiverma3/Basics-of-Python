{
  "nbformat": 4,
  "nbformat_minor": 0,
  "metadata": {
    "colab": {
      "provenance": []
    },
    "kernelspec": {
      "name": "python3",
      "display_name": "Python 3"
    },
    "language_info": {
      "name": "python"
    }
  },
  "cells": [
    {
      "cell_type": "markdown",
      "source": [
        "# CSL7620 :: Machine Learning\n",
        "\n",
        "# Programming Assignment 0.1\n",
        "\n",
        "**Name:**  \n",
        "**Roll Number:**  \n",
        "\n",
        "# Python Warmup\n",
        "- **100 points**\n",
        "- **Due 17th August Sunday by 11:59 pm**\n",
        "\n",
        "This assignment tests the basics of Python, NumPy, and Pandas, essential for implementing machine learning algorithms. The assignment consists of 15 coding questions of varying difficulty levels, from easy to medium. You are required to complete the functions defined in the code blocks following each question. You only need to fill out sections of the code marked `\"YOUR CODE HERE\"`. Do **NOT** modify the test cases provided, as we will use them to grade your solutions. Once you've filled out your solutions, submit the notebook (select from drive) on Classroom. Do **NOT** forget to type in your name and Roll Number at the beginning of the notebook.\n",
        "\n",
        "## Tutorial on Jupyter Notebooks\n",
        "\n",
        "If you are new to Jupyter Notebooks, you can find more information on how to use them [here](https://realpython.com/jupyter-notebook-introduction/).\n",
        "\n"
      ],
      "metadata": {
        "id": "ceqq70rZQcto"
      }
    },
    {
      "cell_type": "markdown",
      "source": [
        "###***`You are expected to complete this assignment independently, without using any tools such as ChatGPT, other AI assistance, or external resources. This will be beneficial for your own learning and development.`***"
      ],
      "metadata": {
        "id": "fjbJ7otKTqMe"
      }
    },
    {
      "cell_type": "markdown",
      "source": [
        "## Python Basics\n"
      ],
      "metadata": {
        "id": "M0s2Z8I7RWLi"
      }
    },
    {
      "cell_type": "markdown",
      "source": [
        "###Question 1 (5 points)\n",
        "\n",
        "Complete the function reverse_string to return the reversed version of a given string. Ignore case and spaces."
      ],
      "metadata": {
        "id": "die8FnBfRcqB"
      }
    },
    {
      "cell_type": "code",
      "source": [
        "def reverse_string(s: str) -> str:\n",
        "    # YOUR CODE HERE\n",
        "    pass\n",
        "\n",
        "# Test cases\n",
        "print(reverse_string(\"Hello World\"))  # Expected: \"dlrowolleh\"\n",
        "print(reverse_string(\"Python\"))       # Expected: \"nohtyp\"\n"
      ],
      "metadata": {
        "colab": {
          "base_uri": "https://localhost:8080/"
        },
        "id": "LGsoejRUQdWk",
        "outputId": "828043eb-ac23-4338-ca62-1a8daad9ef16"
      },
      "execution_count": null,
      "outputs": [
        {
          "output_type": "stream",
          "name": "stdout",
          "text": [
            "None\n",
            "None\n"
          ]
        }
      ]
    },
    {
      "cell_type": "markdown",
      "source": [
        "###Question 2 (5 points)\n",
        "Complete the function exponentiate_list that raises each element in the list to the power of its index and returns a new list.\n",
        "\n",
        "Example:\n",
        "Given list: [1, 3, 5, 7]\n",
        "New list: [1, 3, 25, 343]"
      ],
      "metadata": {
        "id": "wT2c0-BRRikN"
      }
    },
    {
      "cell_type": "code",
      "source": [
        "def exponentiate_list(lst: list) -> list:\n",
        "    # YOUR CODE HERE\n",
        "    pass\n",
        "\n",
        "# Test cases\n",
        "print(exponentiate_list([1, 3, 5, 7]))  # Expected: [1, 3, 25, 343]\n",
        "print(exponentiate_list([2, 0, 4, 1]))  # Expected: [1, 0, 16, 1]"
      ],
      "metadata": {
        "colab": {
          "base_uri": "https://localhost:8080/"
        },
        "id": "GFTVBoeZRnI3",
        "outputId": "63526e37-88fe-4bc4-dd52-254592a7fb42"
      },
      "execution_count": null,
      "outputs": [
        {
          "output_type": "stream",
          "name": "stdout",
          "text": [
            "None\n",
            "None\n"
          ]
        }
      ]
    },
    {
      "cell_type": "markdown",
      "source": [
        "###Question 3 (10 points)\n",
        "Complete the function array_stats that returns the mean, median, and standard deviation of a NumPy array."
      ],
      "metadata": {
        "id": "BPX958ivRrH4"
      }
    },
    {
      "cell_type": "code",
      "source": [
        "import numpy as np\n",
        "\n",
        "def array_stats(arr: np.ndarray) -> tuple:\n",
        "    # YOUR CODE HERE\n",
        "    pass\n",
        "\n",
        "# Test cases\n",
        "print(array_stats(np.array([1, 2, 3, 4, 5])))  # Expected: (3.0, 3.0, 1.4142135623730951)\n",
        "print(array_stats(np.array([10, 20, 30, 40, 50])))  # Expected: (30.0, 30.0, 14.142135623730951)\n"
      ],
      "metadata": {
        "colab": {
          "base_uri": "https://localhost:8080/"
        },
        "id": "AKYQIBoxRlVl",
        "outputId": "a72f0161-21bd-4e99-dfe9-fed7bd021bbc"
      },
      "execution_count": null,
      "outputs": [
        {
          "output_type": "stream",
          "name": "stdout",
          "text": [
            "None\n",
            "None\n"
          ]
        }
      ]
    },
    {
      "cell_type": "markdown",
      "source": [
        "###Question 4 (5 points)\n",
        "Complete the function matrix_reshape to reshape a given matrix to the target dimensions n_rows and n_cols."
      ],
      "metadata": {
        "id": "20Q6Vq7mRy1F"
      }
    },
    {
      "cell_type": "code",
      "source": [
        "def matrix_reshape(matrix: np.ndarray, n_rows: int, n_cols: int) -> np.ndarray:\n",
        "    # YOUR CODE HERE\n",
        "\n",
        "    pass\n",
        "\n",
        "# Test cases\n",
        "print(matrix_reshape(np.array([[1, 2], [3, 4]]), 1, 4))  # Expected: [[1, 2, 3, 4]]\n",
        "print(matrix_reshape(np.array([[1, 2, 3], [4, 5, 6]]), 3, 2))  # Expected: [[1, 2], [3, 4], [5, 6]]\n"
      ],
      "metadata": {
        "colab": {
          "base_uri": "https://localhost:8080/"
        },
        "id": "l5OQyaQ2RyIE",
        "outputId": "8157e9bf-dfe9-4271-e047-a7770277e5cc"
      },
      "execution_count": null,
      "outputs": [
        {
          "output_type": "stream",
          "name": "stdout",
          "text": [
            "None\n",
            "None\n"
          ]
        }
      ]
    },
    {
      "cell_type": "markdown",
      "source": [
        "###Question 5 (5 points)\n",
        "Complete the function elementwise_product that returns the element-wise product of two matrices."
      ],
      "metadata": {
        "id": "NyHsOSSAR4Mm"
      }
    },
    {
      "cell_type": "code",
      "source": [
        "def elementwise_product(mat1: np.ndarray, mat2: np.ndarray) -> np.ndarray:\n",
        "    # YOUR CODE HER\n",
        "    pass\n",
        "\n",
        "# Test cases\n",
        "print(elementwise_product(np.array([[1, 2], [3, 4]]), np.array([[2, 0], [1, 3]])))  # Expected: [[2, 0], [3, 12]]\n",
        "print(elementwise_product(np.array([[5, 6], [7, 8]]), np.array([[1, 2], [3, 4]])))  # Expected: [[5, 12], [21, 32]]\n"
      ],
      "metadata": {
        "colab": {
          "base_uri": "https://localhost:8080/"
        },
        "id": "kzTz2zM_R3cV",
        "outputId": "7c2cb057-f1d3-4689-d57e-726891c66e25"
      },
      "execution_count": null,
      "outputs": [
        {
          "output_type": "stream",
          "name": "stdout",
          "text": [
            "None\n",
            "None\n"
          ]
        }
      ]
    },
    {
      "cell_type": "markdown",
      "source": [
        "###Question 6 (5 points)\n",
        "Complete the function matrix_determinant that computes the determinant of a matrix."
      ],
      "metadata": {
        "id": "_2oZ7ddvR8rm"
      }
    },
    {
      "cell_type": "code",
      "source": [
        "def matrix_determinant(matrix: np.ndarray) -> float:\n",
        "    # YOUR CODE HERE\n",
        "    pass\n",
        "\n",
        "# Test cases\n",
        "print(matrix_determinant(np.array([[1, 2], [3, 4]])))  # Expected: -2.0\n",
        "print(matrix_determinant(np.array([[2, 5], [1, 3]])))  # Expected: 1.0\n"
      ],
      "metadata": {
        "colab": {
          "base_uri": "https://localhost:8080/"
        },
        "id": "yz2QIZxmR7_C",
        "outputId": "30c81b02-8109-434b-f160-ed7d9b86a8a7"
      },
      "execution_count": null,
      "outputs": [
        {
          "output_type": "stream",
          "name": "stdout",
          "text": [
            "None\n",
            "None\n"
          ]
        }
      ]
    },
    {
      "cell_type": "markdown",
      "source": [
        "###Question 7 (5 points)\n",
        "Complete the function normalize_matrix that normalizes each element of a matrix by the maximum element in the matrix."
      ],
      "metadata": {
        "id": "vIDR7E0ESBFm"
      }
    },
    {
      "cell_type": "code",
      "source": [
        "def normalize_matrix(matrix: np.ndarray) -> np.ndarray:\n",
        "     # YOUR CODE HERE\n",
        "    pass\n",
        "\n",
        "# Test cases\n",
        "print(normalize_matrix(np.array([[1, 2], [3, 4]])))  # Expected: [[0.25, 0.5], [0.75, 1.0]]\n",
        "print(normalize_matrix(np.array([[5, 10], [15, 20]])))  # Expected: [[0.25, 0.5], [0.75, 1.0]]\n"
      ],
      "metadata": {
        "colab": {
          "base_uri": "https://localhost:8080/"
        },
        "id": "_2BpHh4ESAe7",
        "outputId": "73119f25-f62e-41da-f488-ccb62f5c6c0b"
      },
      "execution_count": null,
      "outputs": [
        {
          "output_type": "stream",
          "name": "stdout",
          "text": [
            "None\n",
            "None\n"
          ]
        }
      ]
    },
    {
      "cell_type": "markdown",
      "source": [
        "###Question 8 (10 points)\n",
        "Complete the function subtract_row_mean that subtracts the mean of each row from each element in that row of a matrix."
      ],
      "metadata": {
        "id": "aehFY4dhSFqD"
      }
    },
    {
      "cell_type": "code",
      "source": [
        "def subtract_row_mean(matrix: np.ndarray) -> np.ndarray:\n",
        "    # YOUR CODE HERE\n",
        "    pass\n",
        "\n",
        "# Test cases\n",
        "print(subtract_row_mean(np.array([[1, 2, 3], [4, 5, 6]])))  # Expected: [[-1, 0, 1], [-1, 0, 1]]\n",
        "print(subtract_row_mean(np.array([[7, 8, 9], [10, 11, 12]])))  # Expected: [[-1, 0, 1], [-1, 0, 1]]\n"
      ],
      "metadata": {
        "colab": {
          "base_uri": "https://localhost:8080/"
        },
        "id": "zMyeQp7FSFCk",
        "outputId": "5f837ad9-8650-403c-a492-25a76b625e3b"
      },
      "execution_count": null,
      "outputs": [
        {
          "output_type": "stream",
          "name": "stdout",
          "text": [
            "[[-1.  0.  1.]\n",
            " [-1.  0.  1.]]\n",
            "[[-1.  0.  1.]\n",
            " [-1.  0.  1.]]\n"
          ]
        }
      ]
    },
    {
      "cell_type": "markdown",
      "source": [
        "###Question 9 (10 points)\n",
        "Complete the function sliding_window_average that computes the average over a sliding window of size window_size for a 1-D array."
      ],
      "metadata": {
        "id": "ThTqnUcOSJ0d"
      }
    },
    {
      "cell_type": "code",
      "source": [
        "def sliding_window_average(arr: np.ndarray, window_size: int) -> np.ndarray:\n",
        "    # YOUR CODE HERE\n",
        "    pass\n",
        "\n",
        "# Test cases\n",
        "print(sliding_window_average(np.array([1, 2, 3, 4, 5]), 3))  # Expected: [2.0, 3.0, 4.0]\n",
        "print(sliding_window_average(np.array([10, 20, 30, 40, 50]), 2))  # Expected: [15.0, 25.0, 35.0, 45.0]\n"
      ],
      "metadata": {
        "colab": {
          "base_uri": "https://localhost:8080/"
        },
        "id": "nATGCl8JSJO-",
        "outputId": "622782e2-f137-4905-ecfb-570eb4248063"
      },
      "execution_count": null,
      "outputs": [
        {
          "output_type": "stream",
          "name": "stdout",
          "text": [
            "None\n",
            "None\n"
          ]
        }
      ]
    },
    {
      "cell_type": "markdown",
      "source": [
        "##Pandas Basics\n",
        "\n",
        "\n",
        "The provided data contains information about various products sold over a period of time.\n",
        "\n",
        "Data Description\n",
        "* ProductID: Unique ID of the product\n",
        "* Category: Product category\n",
        "* Price: Price of the product\n",
        "* Sales_Day1: Sales on Day 1\n",
        "* Sales_Day2: Sales on Day 2\n",
        "* Sales_Day3: Sales on Day 3\n",
        "* Vendor: Vendor of the product"
      ],
      "metadata": {
        "id": "JfNZqK4GSN1W"
      }
    },
    {
      "cell_type": "markdown",
      "source": [
        "###Question 10 (5 points)\n",
        "Compute the number of unique product categories in df."
      ],
      "metadata": {
        "id": "NEF2dIUzSa9W"
      }
    },
    {
      "cell_type": "code",
      "source": [
        "import pandas as pd\n",
        "\n",
        "def unique_categories(df: pd.DataFrame) -> int:\n",
        "    # YOUR CODE HERE\n",
        "    pass\n",
        "\n",
        "# Test cases\n",
        "df_test = pd.DataFrame({\n",
        "    'ProductID': [1, 2, 3, 4],\n",
        "    'Category': ['A', 'B', 'A', 'C'],\n",
        "    'Price': [10, 20, 15, 30],\n",
        "    'Sales_Day1': [100, 200, 150, 300],\n",
        "    'Sales_Day2': [110, 210, 160, 310],\n",
        "    'Sales_Day3': [120, 220, 170, 320],\n",
        "    'Vendor': ['X', 'Y', 'X', 'Z']\n",
        "})\n",
        "print(unique_categories(df_test))  # Expected: 3\n"
      ],
      "metadata": {
        "colab": {
          "base_uri": "https://localhost:8080/"
        },
        "id": "biQ7ip-DSNQb",
        "outputId": "3e681210-7ed7-4e6c-c5a6-ef21d2cbb9a8"
      },
      "execution_count": null,
      "outputs": [
        {
          "output_type": "stream",
          "name": "stdout",
          "text": [
            "None\n"
          ]
        }
      ]
    },
    {
      "cell_type": "markdown",
      "source": [
        "###Question 11 (5 points)\n",
        "Calculate the number of products sold by the vendor VendorA."
      ],
      "metadata": {
        "id": "MqQSXpNhSgCG"
      }
    },
    {
      "cell_type": "code",
      "source": [
        "def count_vendor_products(df: pd.DataFrame, vendor: str) -> int:\n",
        "    # YOUR CODE HERE\n",
        "    pass\n",
        "\n",
        "# Test cases\n",
        "df_test = pd.DataFrame({\n",
        "    'ProductID': [1, 2, 3, 4],\n",
        "    'Category': ['A', 'B', 'A', 'C'],\n",
        "    'Price': [10, 20, 15, 30],\n",
        "    'Sales_Day1': [100, 200, 150, 300],\n",
        "    'Sales_Day2': [110, 210, 160, 310],\n",
        "    'Sales_Day3': [120, 220, 170, 320],\n",
        "    'Vendor': ['VendorA', 'VendorB', 'VendorA', 'VendorC']\n",
        "})\n",
        "print(count_vendor_products(df_test, 'VendorA'))  # Expected: 2\n"
      ],
      "metadata": {
        "colab": {
          "base_uri": "https://localhost:8080/"
        },
        "id": "ZS9Z6cs3Sepk",
        "outputId": "74b75436-5d94-4aac-80e6-2bf8af405a96"
      },
      "execution_count": null,
      "outputs": [
        {
          "output_type": "stream",
          "name": "stdout",
          "text": [
            "None\n"
          ]
        }
      ]
    },
    {
      "cell_type": "markdown",
      "source": [
        "###Question 12 (5 points)\n",
        "List the product categories sold by VendorB."
      ],
      "metadata": {
        "id": "TIrLIOp_SkYm"
      }
    },
    {
      "cell_type": "code",
      "source": [
        "def vendor_categories(df: pd.DataFrame, vendor: str) -> list:\n",
        "    # YOUR CODE HERE\n",
        "    pass\n",
        "\n",
        "# Test cases\n",
        "df_test = pd.DataFrame({\n",
        "    'ProductID': [1, 2, 3, 4],\n",
        "    'Category': ['A', 'B', 'A', 'C'],\n",
        "    'Price': [10, 20, 15, 30],\n",
        "    'Sales_Day1': [100, 200, 150, 300],\n",
        "    'Sales_Day2': [110, 210, 160, 310],\n",
        "    'Sales_Day3': [120, 220, 170, 320],\n",
        "    'Vendor': ['VendorA', 'VendorB', 'VendorA', 'VendorC']\n",
        "})\n",
        "print(vendor_categories(df_test, 'VendorB'))  # Expected: ['B']\n"
      ],
      "metadata": {
        "colab": {
          "base_uri": "https://localhost:8080/"
        },
        "id": "vOOv2UlSSjq8",
        "outputId": "ee7e25fe-113e-45ba-85bc-7682e57655ec"
      },
      "execution_count": null,
      "outputs": [
        {
          "output_type": "stream",
          "name": "stdout",
          "text": [
            "None\n"
          ]
        }
      ]
    },
    {
      "cell_type": "markdown",
      "source": [
        "###Question 13 (5 points)\n",
        "Calculate the total number of missing values (they are NaN) in df."
      ],
      "metadata": {
        "id": "mRxhv4TqSouY"
      }
    },
    {
      "cell_type": "code",
      "source": [
        "def count_missing_values(df: pd.DataFrame) -> int:\n",
        "    # YOUR CODE HERE\n",
        "    pass\n",
        "\n",
        "# Test cases\n",
        "df_test = pd.DataFrame({\n",
        "    'ProductID': [1, 2, 3, 4, None],\n",
        "    'Category': ['A', 'B', 'A', 'C', 'D'],\n",
        "    'Price': [10, 20, 15, 30, None],\n",
        "    'Sales_Day1': [100, 200, 150, 300, None],\n",
        "    'Sales_Day2': [110, 210, 160, 310, None],\n",
        "    'Sales_Day3': [120, 220, 170, 320, None],\n",
        "    'Vendor': ['VendorA', 'VendorB', 'VendorA', 'VendorC', None]\n",
        "})\n",
        "print(count_missing_values(df_test))  # Expected: 6\n"
      ],
      "metadata": {
        "colab": {
          "base_uri": "https://localhost:8080/"
        },
        "id": "K9TsAW8aSoEm",
        "outputId": "0e6ec0d3-8880-46d9-8074-a12af54bb23b"
      },
      "execution_count": null,
      "outputs": [
        {
          "output_type": "stream",
          "name": "stdout",
          "text": [
            "None\n"
          ]
        }
      ]
    },
    {
      "cell_type": "markdown",
      "source": [
        "###Question 14 (10 points)\n",
        "Calculate the average sales (ignoring NaN values) for all the products. Then modify df by replacing all the NaN values in Sales_Day1, Sales_Day2, and Sales_Day3 columns with the average sales."
      ],
      "metadata": {
        "id": "ETXu19lWStJe"
      }
    },
    {
      "cell_type": "code",
      "source": [
        "def average_sales(df: pd.DataFrame) -> float:\n",
        "    # YOUR CODE HERE\n",
        "    pass\n",
        "\n",
        "def fill_missing_sales(df: pd.DataFrame) -> pd.DataFrame:\n",
        "    # YOUR CODE HERE\n",
        "    pass\n",
        "\n",
        "# Test cases\n",
        "df_test = pd.DataFrame({\n",
        "    'ProductID': [1, 2, 3, 4, None],\n",
        "    'Category': ['A', 'B', 'A', 'C', 'D'],\n",
        "    'Price': [10, 20, 15, 30, None],\n",
        "    'Sales_Day1': [100, 200, 150, 300, None],\n",
        "    'Sales_Day2': [110, 210, 160, 310, None],\n",
        "    'Sales_Day3': [120, 220, 170, 320, None],\n",
        "    'Vendor': ['VendorA', 'VendorB', 'VendorA', 'VendorC', None]\n",
        "})\n",
        "average = average_sales(df_test)\n",
        "print(average)  # Expected: 197.5\n",
        "df_filled = fill_missing_sales(df_test)\n",
        "print(df_filled)\n"
      ],
      "metadata": {
        "colab": {
          "base_uri": "https://localhost:8080/"
        },
        "id": "I8TxKvURSsHu",
        "outputId": "75ae079c-e06c-4ed6-8b6c-5a82caeb83e5"
      },
      "execution_count": null,
      "outputs": [
        {
          "output_type": "stream",
          "name": "stdout",
          "text": [
            "None\n",
            "None\n"
          ]
        }
      ]
    },
    {
      "cell_type": "markdown",
      "source": [
        "###Question 15 (10 points)\n",
        "Some values in the ProductID column are missing (NaN). These IDs should increase sequentially. Fill in these missing IDs and make the column an integer column (instead of a float column)."
      ],
      "metadata": {
        "id": "OPbRH0dfSy2U"
      }
    },
    {
      "cell_type": "code",
      "source": [
        "def fill_product_ids(df: pd.DataFrame) -> pd.DataFrame:\n",
        "    # YOUR CODE HERE\n",
        "    pass\n",
        "\n",
        "# Test cases\n",
        "df_test = pd.DataFrame({\n",
        "    'ProductID': [1001, None, 1003, None],\n",
        "    'Category': ['A', 'B', 'A', 'C'],\n",
        "    'Price': [10, 20, 15, 30],\n",
        "    'Sales_Day1': [100, 200, 150, 300],\n",
        "    'Sales_Day2': [110, 210, 160, 310],\n",
        "    'Sales_Day3': [120, 220, 170, 320],\n",
        "    'Vendor': ['VendorA', 'VendorB', 'VendorA', 'VendorC']\n",
        "})\n",
        "df_filled = fill_product_ids(df_test)\n",
        "print(df_filled)\n",
        "# Expected ProductID column: [1001, 1002, 1003, 1004]\n"
      ],
      "metadata": {
        "colab": {
          "base_uri": "https://localhost:8080/"
        },
        "id": "Qx4KWW7zSxCl",
        "outputId": "e45d8736-9f1e-4e23-ade1-269d04e57fde"
      },
      "execution_count": null,
      "outputs": [
        {
          "output_type": "stream",
          "name": "stdout",
          "text": [
            "None\n"
          ]
        }
      ]
    },
    {
      "cell_type": "code",
      "source": [],
      "metadata": {
        "id": "4POW-ESwS1g2"
      },
      "execution_count": null,
      "outputs": []
    }
  ]
}